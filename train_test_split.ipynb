{
 "cells": [
  {
   "cell_type": "code",
   "execution_count": 1,
   "metadata": {},
   "outputs": [
    {
     "ename": "",
     "evalue": "",
     "output_type": "error",
     "traceback": [
      "\u001b[1;31mThe Kernel crashed while executing code in the current cell or a previous cell. \n",
      "\u001b[1;31mPlease review the code in the cell(s) to identify a possible cause of the failure. \n",
      "\u001b[1;31mClick <a href='https://aka.ms/vscodeJupyterKernelCrash'>here</a> for more info. \n",
      "\u001b[1;31mView Jupyter <a href='command:jupyter.viewOutput'>log</a> for further details."
     ]
    }
   ],
   "source": [
    "import os\n",
    "import shutil\n",
    "import random\n",
    "\n",
    "main_folder = r\"A:\\lingu's data\\helmet\"\n",
    "train_folder = r\"A:\\lingu's data\\helmet\\train\"\n",
    "test_folder = r\"A:\\lingu's data\\helmet\\test\"\n",
    "validation_folder = r\"A:\\lingu's data\\helmet\\validation\"\n",
    "\n",
    "train_ratio = 0.7\n",
    "test_ratio = 0.15\n",
    "validation_ratio = 0.15\n",
    "\n",
    "image_folders = os.listdir(main_folder)\n",
    "\n",
    "for folder in image_folders:\n",
    "    folder_path = os.path.join(main_folder, folder)\n",
    "    \n",
    "    image_files = os.listdir(folder_path)\n",
    "    \n",
    "    random.shuffle(image_files)\n",
    "    \n",
    "    num_images = len(image_files)\n",
    "    num_train = int(num_images * train_ratio)\n",
    "    num_test = int(num_images * test_ratio)\n",
    "    num_validation = num_images - num_train - num_test\n",
    "    \n",
    "    train_images = image_files[:num_train]\n",
    "    test_images = image_files[num_train:num_train+num_test]\n",
    "    validation_images = image_files[num_train+num_test:]\n",
    "    \n",
    "    for image in train_images:\n",
    "        source = os.path.join(folder_path, image)\n",
    "        destination = os.path.join(train_folder, folder)\n",
    "        if not os.path.exists(destination):\n",
    "            os.makedirs(destination)\n",
    "        shutil.move(source, destination)\n",
    "    \n",
    "    for image in test_images:\n",
    "        source = os.path.join(folder_path, image)\n",
    "        destination = os.path.join(test_folder, folder)\n",
    "        if not os.path.exists(destination):\n",
    "            os.makedirs(destination)\n",
    "        shutil.move(source, destination)\n",
    "    \n",
    "    for image in validation_images:\n",
    "        source = os.path.join(folder_path, image)\n",
    "        destination = os.path.join(validation_folder, folder)\n",
    "        if not os.path.exists(destination):\n",
    "            os.makedirs(destination)\n",
    "        shutil.move(source, destination)\n",
    "\n",
    "for folder in os.listdir(main_folder):\n",
    "    folder_path = os.path.join(main_folder, folder)\n",
    "    if os.path.isdir(folder_path) and folder not in ['train', 'test', 'validation']:\n",
    "        shutil.rmtree(folder_path)\n"
   ]
  },
  {
   "cell_type": "code",
   "execution_count": 10,
   "metadata": {},
   "outputs": [],
   "source": [
    "import os\n",
    "import shutil\n",
    "\n",
    "def extract_images(main_folder):\n",
    "    for root, dirs, files in os.walk(main_folder):\n",
    "        for file in files:\n",
    "            if file.lower().endswith(('.png', '.jpg', '.jpeg', '.gif', '.bmp')):\n",
    "                file_path = os.path.join(root, file)\n",
    "                \n",
    "                shutil.move(file_path, os.path.join(main_folder, file))\n",
    "\n",
    "\n",
    "main_folder = r\"S:\\Adacamic Projects\\data\\Orgran Injury\\organ\\toungue\\test\"\n",
    "extract_images(main_folder)\n"
   ]
  }
 ],
 "metadata": {
  "kernelspec": {
   "display_name": "Python 3",
   "language": "python",
   "name": "python3"
  },
  "language_info": {
   "codemirror_mode": {
    "name": "ipython",
    "version": 3
   },
   "file_extension": ".py",
   "mimetype": "text/x-python",
   "name": "python",
   "nbconvert_exporter": "python",
   "pygments_lexer": "ipython3",
   "version": "3.10.4"
  }
 },
 "nbformat": 4,
 "nbformat_minor": 2
}
